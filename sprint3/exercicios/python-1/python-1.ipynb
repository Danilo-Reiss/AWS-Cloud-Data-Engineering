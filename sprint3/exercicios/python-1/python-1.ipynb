{
 "cells": [
  {
   "cell_type": "markdown",
   "id": "7b9784ef",
   "metadata": {},
   "source": [
    "## Exercício de programação 1\n",
    "* Desenvolva um código em Python que crie variáveis para armazenar o nome e a idade de uma pessoa, juntamente com seus valores correspondentes. Como saída, imprima o ano em que a pessoa completará 100 anos de idade. "
   ]
  },
  {
   "cell_type": "code",
   "execution_count": 4,
   "id": "65c8c895",
   "metadata": {},
   "outputs": [
    {
     "name": "stdout",
     "output_type": "stream",
     "text": [
      "2100\n"
     ]
    }
   ],
   "source": [
    "nome = 'nome'\n",
    "idade = 24\n",
    "calculated_100_anos = (100 - idade) + 2024\n",
    "\n",
    "\n",
    "print(f'{calculated_100_anos}')"
   ]
  },
  {
   "cell_type": "markdown",
   "id": "cf83c2b5",
   "metadata": {},
   "source": [
    "## Exercício de programação 2\n",
    "* Escreva um código Python que use a função range() para adicionar três números em uma lista(Esta lista deve chamar-se 'números')  e verificar se esses três números são pares ou ímpares. Para cada número, imprima como saída Par: ou Ímpar: e o número correspondente (uma linha para cada número lido). Importante: Aplique a função range() em seu código."
   ]
  },
  {
   "cell_type": "code",
   "execution_count": 5,
   "id": "152d6cc2",
   "metadata": {},
   "outputs": [
    {
     "name": "stdout",
     "output_type": "stream",
     "text": [
      "Par: 6\n",
      "Par: 8\n",
      "Ímpar: 11\n"
     ]
    }
   ],
   "source": [
    "numeros = []\n",
    "novo_numero = 5\n",
    "for i in range(1, 4):\n",
    "    novo_numero += i\n",
    "    numeros.append(novo_numero)\n",
    "\n",
    "for numero in numeros:\n",
    "    if numero % 2 == 0:\n",
    "        print(f'Par: {numero}')\n",
    "    else:\n",
    "        print(f'Ímpar: {numero}')"
   ]
  },
  {
   "cell_type": "markdown",
   "id": "f60c6477",
   "metadata": {},
   "source": [
    "## Exercício de programação 3\n",
    "* Escreva um código Python para imprimir os números pares de 0 até 20 (incluso). Importante: Aplique a função range() em seu código. "
   ]
  },
  {
   "cell_type": "code",
   "execution_count": 6,
   "id": "505e24dc",
   "metadata": {},
   "outputs": [
    {
     "name": "stdout",
     "output_type": "stream",
     "text": [
      "0\n",
      "2\n",
      "4\n",
      "6\n",
      "8\n",
      "10\n",
      "12\n",
      "14\n",
      "16\n",
      "18\n",
      "20\n"
     ]
    }
   ],
   "source": [
    "for n in range(0,21):\n",
    "    if n % 2 == 0:\n",
    "        print(f'{n}')"
   ]
  },
  {
   "cell_type": "markdown",
   "id": "ea7639ed",
   "metadata": {},
   "source": [
    "## Exercício de programação 4\n",
    "* Escreva um código Python para imprimir todos os números primos entre 1 até 100. Lembre-se que você deverá desenvolver o cálculo que identifica se um número é primo ou não. Importante: Aplique a função range(). "
   ]
  },
  {
   "cell_type": "code",
   "execution_count": 7,
   "id": "aed043a6",
   "metadata": {},
   "outputs": [
    {
     "name": "stdout",
     "output_type": "stream",
     "text": [
      "2\n",
      "3\n",
      "5\n",
      "7\n",
      "11\n",
      "13\n",
      "17\n",
      "19\n",
      "23\n",
      "29\n",
      "31\n",
      "37\n",
      "41\n",
      "43\n",
      "47\n",
      "53\n",
      "59\n",
      "61\n",
      "67\n",
      "71\n",
      "73\n",
      "79\n",
      "83\n",
      "89\n",
      "97\n"
     ]
    }
   ],
   "source": [
    "def primo(n):\n",
    "    if n <= 1:\n",
    "        return False\n",
    "    for i in range(2,n):\n",
    "        if n % i == 0:\n",
    "            return False\n",
    "    return True\n",
    "\n",
    "for numero in range(1,101):\n",
    "    if primo(numero):\n",
    "        print(f'{numero}')"
   ]
  },
  {
   "cell_type": "markdown",
   "id": "00b85267",
   "metadata": {},
   "source": [
    "## Exercício de programação 5\n",
    "* Escreva um código Python que declara 3 variáveis: dia, inicializada com valor 22 mes, inicializada com valor 10 e ano, inicializada com valor 2022. Como saída, você deverá imprimir a data correspondente, no formato a seguir dia/mes/ano. "
   ]
  },
  {
   "cell_type": "code",
   "execution_count": 8,
   "id": "f1154446",
   "metadata": {},
   "outputs": [
    {
     "name": "stdout",
     "output_type": "stream",
     "text": [
      "22/10/2022\n"
     ]
    }
   ],
   "source": [
    "dia = 22\n",
    "mes = 10\n",
    "ano = 2022\n",
    "\n",
    "print(f'{dia}/{mes}/{ano}')"
   ]
  },
  {
   "cell_type": "markdown",
   "id": "a2b41e5a",
   "metadata": {},
   "source": [
    "## Exercício de programação 6\n",
    "*  Considere as duas listas abaixo: \n",
    "```python\n",
    "a = [1, 1, 2, 3, 5, 8, 14, 21, 34, 55, 89]  \n",
    "b = [1, 2, 3, 4, 5, 6, 7, 8, 9, 10, 11, 12, 13, 14, 15] \n",
    "```\n",
    "* Escreva um programa para avaliar o que ambas as listas têm em comum (sem repetições), imprimindo a lista de valores da interseção na saída padrão. Importante:Esperamos que você utilize o construtor set() em seu código. "
   ]
  },
  {
   "cell_type": "code",
   "execution_count": 9,
   "id": "fe45ae8e",
   "metadata": {},
   "outputs": [
    {
     "name": "stdout",
     "output_type": "stream",
     "text": [
      "[1, 2, 3, 5, 8, 14]\n"
     ]
    }
   ],
   "source": [
    "a = [1, 1, 2, 3, 5, 8, 14, 21, 34, 55, 89]\n",
    "b = [1, 2, 3, 4, 5, 6, 7, 8, 9, 10, 11, 12, 13, 14, 15]\n",
    "\n",
    "lista_intersec = set(a).intersection(set(b))\n",
    "\n",
    "print(f'{list(lista_intersec)}')"
   ]
  },
  {
   "cell_type": "markdown",
   "id": "79c09054",
   "metadata": {},
   "source": [
    "## Exercício de programação 7\n",
    "* Dada a seguinte lista: a = [1, 4, 9, 16, 25, 36, 49, 64, 81, 100], faça um programa que gere uma nova lista contendo apenas números ímpares. "
   ]
  },
  {
   "cell_type": "code",
   "execution_count": 10,
   "id": "fa57bced",
   "metadata": {},
   "outputs": [
    {
     "name": "stdout",
     "output_type": "stream",
     "text": [
      "[1, 9, 25, 49, 81]\n"
     ]
    }
   ],
   "source": [
    "a = [1, 4, 9, 16, 25, 36, 49, 64, 81, 100]\n",
    "lista_impar = []\n",
    "\n",
    "for n_impar in a:\n",
    "    if n_impar % 2 != 0:\n",
    "        lista_impar.append(n_impar)\n",
    "\n",
    "print(f'{lista_impar}')"
   ]
  },
  {
   "cell_type": "markdown",
   "id": "ca370e90",
   "metadata": {},
   "source": [
    "## Exercício de programação 8\n",
    "* Verifique se cada uma das palavras da lista ['maça', 'arara', 'audio', 'radio', 'radar', 'moto'] é ou não um palíndromo. Obs: Palíndromo é uma palavra que permanece igual se lida de traz pra frente. É necessário que você imprima no console exatamente assim:  \n",
    "```python\n",
    "A palavra: maça não é um palíndromo`  \n",
    "A palavra: arara é um palíndromo  \n",
    "A palavra: audio não é um palíndromo  \n",
    "A palavra: radio não é um palíndromo  \n",
    "A palavra: radar é um palíndromo  \n",
    "A palavra: moto não é um palíndromo\n",
    "```\n"
   ]
  },
  {
   "cell_type": "code",
   "execution_count": 11,
   "id": "cf68d557",
   "metadata": {},
   "outputs": [
    {
     "name": "stdout",
     "output_type": "stream",
     "text": [
      "A palavra: maça não é um palíndromo\n",
      "A palavra: arara é um palíndromo\n",
      "A palavra: audio não é um palíndromo\n",
      "A palavra: radio não é um palíndromo\n",
      "A palavra: radar é um palíndromo\n",
      "A palavra: moto não é um palíndromo\n"
     ]
    }
   ],
   "source": [
    "def IsPalin (palavras):\n",
    "    if palavra == palavra[::-1]:\n",
    "        return True\n",
    "    return False\n",
    "\n",
    "lista = ['maça', 'arara', 'audio', 'radio', 'radar', 'moto']\n",
    "for palavra in lista:\n",
    "    if IsPalin (palavra):\n",
    "        print (f'A palavra: {palavra} é um palíndromo')\n",
    "    else:\n",
    "        print (f'A palavra: {palavra} não é um palíndromo')"
   ]
  },
  {
   "cell_type": "markdown",
   "id": "d31e6619",
   "metadata": {},
   "source": [
    "## Exercício de programação 9\n",
    "* Dada as listas a seguir:\n",
    "```python\n",
    "primeirosNomes = ['Joao', 'Douglas', 'Lucas', 'José']\n",
    "sobreNomes = ['Soares', 'Souza', 'Silveira', 'Pedreira']\n",
    "idades = [19, 28, 25, 31]\n",
    "```\n",
    "* Faça um programa que imprima o dados na seguinte estrutura: \"índice - primeiroNome sobreNome está com idade anos\". Exemplo:\n",
    "``` 0 - João Soares está com 19 anos ```"
   ]
  },
  {
   "cell_type": "code",
   "execution_count": 12,
   "id": "9ae53530",
   "metadata": {},
   "outputs": [
    {
     "name": "stdout",
     "output_type": "stream",
     "text": [
      "0 - Joao Soares está com 19 anos\n",
      "1 - Douglas Souza está com 28 anos\n",
      "2 - Lucas Silveira está com 25 anos\n",
      "3 - José Pedreira está com 31 anos\n"
     ]
    }
   ],
   "source": [
    "primeirosNomes = ['Joao', 'Douglas', 'Lucas', 'José']\n",
    "sobreNomes = ['Soares', 'Souza', 'Silveira', 'Pedreira']\n",
    "idades = [19, 28, 25, 31]\n",
    "\n",
    "primeirosNomes = list(enumerate(primeirosNomes))\n",
    "sobreNomes = list(enumerate(sobreNomes))\n",
    "idades = list(enumerate(idades))\n",
    "\n",
    "for i in primeirosNomes:\n",
    "    for i_2 in sobreNomes:\n",
    "        for i_3 in idades:\n",
    "            if i[0] == i_2[0] == i_3[0]:\n",
    "                print(f'{i[0]} - {i[1]} {i_2[1]} está com {i_3[1]} anos')"
   ]
  },
  {
   "cell_type": "markdown",
   "id": "612fb22c",
   "metadata": {},
   "source": [
    "## Exercício de programação 10\n",
    "*  Escreva uma função que recebe uma lista e retorna uma nova lista sem elementos duplicados. Utilize a lista a seguir para testar sua função:\n",
    "```python\n",
    "['abc', 'abc', 'abc', '123', 'abc', '123', '123']\n",
    "```"
   ]
  },
  {
   "cell_type": "code",
   "execution_count": 13,
   "id": "3f0a7b11",
   "metadata": {},
   "outputs": [
    {
     "name": "stdout",
     "output_type": "stream",
     "text": [
      "['abc', '123']\n"
     ]
    }
   ],
   "source": [
    "def noDuplicate(lista):\n",
    "    lista = set(lista)\n",
    "    lista = list(lista)\n",
    "    return lista\n",
    "\n",
    "\n",
    "a = ['abc', 'abc', 'abc', '123', 'abc', '123', '123']\n",
    "a = noDuplicate(a)\n",
    "\n",
    "print(a)"
   ]
  },
  {
   "cell_type": "markdown",
   "id": "dd6fc94d",
   "metadata": {},
   "source": [
    "## Exercício de programação 11\n",
    "* Leia o arquivo person.json, faça o parsing e imprima seu conteúdo."
   ]
  },
  {
   "cell_type": "code",
   "execution_count": 14,
   "id": "be3f224f",
   "metadata": {},
   "outputs": [
    {
     "name": "stdout",
     "output_type": "stream",
     "text": [
      "{'name': 'Fulano Da Silva', 'endereco': 'Rua Sem Nome, 31', 'startDateExecution': '2019-06-25 16:25:23.233', 'endDateExecution': '2019-06-25 16:25:23.331', 'siteId': 'BrasilDesktop', 'sitePage': '/', 'serverName': 'AS1332:10181', 'profileId': '8947071299', 'type': 'JSP_RENDERING', 'path': 'testado/com', 'performanceType': 'JSP_RENDERING'}\n"
     ]
    }
   ],
   "source": [
    "import json\n",
    "\n",
    "with open('person.json', 'r') as arquivo:\n",
    "    dados_person = json.load(arquivo)\n",
    "\n",
    "print(dados_person)"
   ]
  },
  {
   "cell_type": "markdown",
   "id": "9c0bc742",
   "metadata": {},
   "source": [
    "## Exercício de programação 12\n",
    "* Implemente a função my_map(list, f) que recebe uma lista como primeiro argumento e uma função como segundo argumento. Esta função aplica a função recebida para cada elemento da lista recebida e retorna o resultado em uma nova lista. Teste sua função com a lista de entrada ```[1, 2, 3, 4, 5, 6, 7, 8, 9, 10]``` e com uma função que faça potência de 2 para cada elemento "
   ]
  },
  {
   "cell_type": "code",
   "execution_count": 15,
   "id": "95f03d29",
   "metadata": {},
   "outputs": [
    {
     "name": "stdout",
     "output_type": "stream",
     "text": [
      "[1, 4, 9, 16, 25, 36, 49, 64, 81, 100]\n"
     ]
    }
   ],
   "source": [
    "def my_map(lista, f):\n",
    "    lista = list(map(f, lista))\n",
    "    return lista\n",
    "\n",
    "\n",
    "lista_ = [1, 2, 3, 4, 5, 6, 7, 8, 9, 10]\n",
    "lista1 = my_map(lista_, lambda x: x**2)\n",
    "\n",
    "print(lista1)"
   ]
  },
  {
   "cell_type": "markdown",
   "id": "2efe5d2d",
   "metadata": {},
   "source": [
    "## Exercício de programação 13\n",
    "* Escreva um programa que lê o conteúdo do arquivo texto arquivo_texto.txt e imprime o seu conteúdo. "
   ]
  },
  {
   "cell_type": "code",
   "execution_count": 16,
   "id": "e1c2fbc7",
   "metadata": {},
   "outputs": [
    {
     "name": "stdout",
     "output_type": "stream",
     "text": [
      "Este conteúdo está em\n",
      "um\n",
      "arquivo\n",
      "de texto."
     ]
    }
   ],
   "source": [
    "with open('arquivo_texto.txt', 'r', encoding='utf-8') as arquivo:\n",
    "    dados = arquivo.read()\n",
    "\n",
    "print(dados,end='')"
   ]
  },
  {
   "cell_type": "markdown",
   "id": "abeb15e0",
   "metadata": {},
   "source": [
    "## Exercício de programação 14\n",
    "* Escreva uma função que recebe um número variável de parâmetros não nomeados e um número variado de parâmetros nomeados e imprime o valor de cada parâmetro recebido. Teste sua função com os seguintes parâmetros:  \n",
    "```python\n",
    "(1, 3, 4, 'hello', parametro_nomeado='alguma coisa', x=20)\n",
    "```"
   ]
  },
  {
   "cell_type": "code",
   "execution_count": 17,
   "id": "e62f1585",
   "metadata": {},
   "outputs": [
    {
     "name": "stdout",
     "output_type": "stream",
     "text": [
      "1\n",
      "3\n",
      "4\n",
      "hello\n",
      "alguma coisa\n",
      "20\n"
     ]
    }
   ],
   "source": [
    "def func(*args, **kwargs):\n",
    "    for i in args:\n",
    "        print(i)\n",
    "    for i in kwargs.values():\n",
    "        print(i)\n",
    "\n",
    "\n",
    "func(1, 3, 4, 'hello', parametro_nomeado='alguma coisa', x=20)"
   ]
  },
  {
   "cell_type": "markdown",
   "id": "1ea24419",
   "metadata": {},
   "source": [
    "## Exercício de programação 15\n",
    "* Implemente a classe Lampada. A classe Lâmpada recebe um booleano no seu construtor, True se a lâmpada estiver ligada, False caso esteja desligada. A classe Lampada possuí os seguintes métodos:  \n",
    "  \n",
    "liga(): muda o estado da lâmpada para ligada  \n",
    "desliga(): muda o estado da lâmpada para desligada  \n",
    "esta_ligada(): retorna verdadeiro se a lâmpada estiver ligada, falso caso contrário    \n",
    "  \n",
    "* Para testar sua classe:\n",
    "```python\n",
    "Ligue a Lampada\n",
    "Imprima: A lâmpada está ligada? True\n",
    "Desligue a Lampada\n",
    "Imprima: A lâmpada ainda está ligada? False\n",
    "```"
   ]
  },
  {
   "cell_type": "code",
   "execution_count": 18,
   "id": "dfff073e",
   "metadata": {},
   "outputs": [
    {
     "name": "stdout",
     "output_type": "stream",
     "text": [
      "A lâmpada está ligada? True\n",
      "A lâmpada ainda está ligada? False\n"
     ]
    }
   ],
   "source": [
    "class Lampada:\n",
    "    def __init__(self, ligada):\n",
    "        self.ligada = ligada\n",
    "\n",
    "    def liga(self):\n",
    "        self.ligada = True\n",
    "\n",
    "    def desliga(self):\n",
    "        self.ligada = False\n",
    "    \n",
    "    def esta_ligada(self):\n",
    "        return self.ligada\n",
    "\n",
    "lamp = False\n",
    "lamp = Lampada(lamp)\n",
    "lamp.liga()\n",
    "print(f'A lâmpada está ligada? {lamp.esta_ligada()}')\n",
    "lamp.desliga()\n",
    "print(f'A lâmpada ainda está ligada? {lamp.esta_ligada()}')"
   ]
  },
  {
   "cell_type": "markdown",
   "id": "b31c9a83",
   "metadata": {},
   "source": [
    "## Exercício de programação 16\n",
    "* Escreva uma função que recebe uma string de números separados por vírgula e retorne a soma de todos eles. Depois imprima a soma dos valores. A string deve ter valor \"1,3,4,6,10,76\" "
   ]
  },
  {
   "cell_type": "code",
   "execution_count": 19,
   "id": "164e58eb",
   "metadata": {},
   "outputs": [
    {
     "name": "stdout",
     "output_type": "stream",
     "text": [
      "100\n"
     ]
    }
   ],
   "source": [
    "def funct(*args):\n",
    "    lista_num = [int(num) for num in args[0].split(',')]\n",
    "    print(sum(lista_num))\n",
    "\n",
    "\n",
    "funct(\"1,3,4,6,10,76\")"
   ]
  },
  {
   "cell_type": "markdown",
   "id": "c47061f6",
   "metadata": {},
   "source": [
    "## Exercício de programação 17\n",
    "* Escreva uma função que recebe como parâmetro uma lista e retorna 3 listas: a lista recebida dividida em 3 partes iguais. Teste sua implementação com a lista abaixo:\n",
    "```python\n",
    "lista = [1, 2, 3, 4, 5, 6, 7, 8, 9, 10, 11, 12]\n",
    "```"
   ]
  },
  {
   "cell_type": "code",
   "execution_count": 20,
   "id": "b03f7751",
   "metadata": {},
   "outputs": [
    {
     "name": "stdout",
     "output_type": "stream",
     "text": [
      "[1, 2, 3, 4] [5, 6, 7, 8] [9, 10, 11, 12]\n"
     ]
    }
   ],
   "source": [
    "def div_list(lista):\n",
    "    tamanho = len(lista)\n",
    "    tam_parte = tamanho // 3\n",
    "\n",
    "    if tamanho % 3 != 0:\n",
    "        raise ValueError(\n",
    "            \"A lista não pode ser dividida em três partes iguais!\")\n",
    "\n",
    "    parte1 = lista[:tam_parte]\n",
    "    parte2 = lista[tam_parte:tam_parte*2]\n",
    "    parte3 = lista[tam_parte*2:]\n",
    "\n",
    "    new_list = []\n",
    "    new_list.append(parte1)\n",
    "    new_list.append(parte2)\n",
    "    new_list.append(parte3)\n",
    "\n",
    "    string_lista = [str(item) for item in new_list]\n",
    "    string_conc = ' '.join(string_lista)\n",
    "    print(string_conc)\n",
    "\n",
    "\n",
    "lista = [1, 2, 3, 4, 5, 6, 7, 8, 9, 10, 11, 12]\n",
    "lista1 = div_list(lista)"
   ]
  },
  {
   "cell_type": "markdown",
   "id": "954091d7",
   "metadata": {},
   "source": [
    "## Exercício de programação 18\n",
    "* Dado o dicionário a seguir:\n",
    "```python\n",
    "speed = {'jan':47, 'feb':52, 'march':47, 'April':44, 'May':52, 'June':53, 'july':54, 'Aug':44, 'Sept':54}\n",
    "```\n",
    "* Crie uma lista com todos os valores (não as chaves!) e coloque numa lista de forma que não haja valores duplicados."
   ]
  },
  {
   "cell_type": "code",
   "execution_count": 21,
   "id": "7d4bc146",
   "metadata": {},
   "outputs": [
    {
     "name": "stdout",
     "output_type": "stream",
     "text": [
      "[44, 47, 52, 53, 54]\n"
     ]
    }
   ],
   "source": [
    "speed = {'jan': 47, 'feb': 52, 'march': 47, 'April': 44,\n",
    "         'May': 52, 'June': 53, 'july': 54, 'Aug': 44, 'Sept': 54}\n",
    "\n",
    "lista_values = list(set([valores for valores in speed.values()]))\n",
    "\n",
    "print(lista_values)"
   ]
  },
  {
   "cell_type": "markdown",
   "id": "38c9b246",
   "metadata": {},
   "source": [
    "## Exercício de programação 19\n",
    "* Calcule o valor mínimo, valor máximo, valor médio e a mediana da lista gerada na célula abaixo:\n",
    "* Obs.: Lembrem-se, para calcular a mediana a lista deve estar ordenada!\n",
    "```python\n",
    "import random \n",
    "# amostra aleatoriamente 50 números do intervalo 0...500\n",
    "random_list = random.sample(range(500),50)\n",
    "```\n",
    "* Use as variáveis para representar cada operação matemática: mediana, media, valor_minimo, valor_maximo \n",
    "* Importante: Esperamos que você utilize as funções abaixo em seu código: random, max, min, sum"
   ]
  },
  {
   "cell_type": "code",
   "execution_count": 22,
   "id": "a34e928b",
   "metadata": {},
   "outputs": [
    {
     "name": "stdout",
     "output_type": "stream",
     "text": [
      "Media: 233.42, Mediana: 236.5, Mínimo: 6, Máximo: 487\n"
     ]
    }
   ],
   "source": [
    "import random\n",
    "\n",
    "\n",
    "def calc_mediana(lista):\n",
    "    lista_ordenada = sorted(lista)\n",
    "    tamanho = len(lista)\n",
    "\n",
    "    if tamanho % 2 != 0:\n",
    "        mediana = lista_ordenada[tamanho // 2]\n",
    "    else:\n",
    "        metade_sup = tamanho // 2\n",
    "        metade_inf = metade_sup - 1\n",
    "        mediana = (lista_ordenada[metade_sup] + lista_ordenada[metade_inf]) / 2\n",
    "\n",
    "    return mediana\n",
    "\n",
    "\n",
    "random_list = random.sample(range(500), 50)\n",
    "\n",
    "mediana = calc_mediana(random_list)\n",
    "media = sum(random_list) / len(random_list)\n",
    "valor_minimo = min(random_list)\n",
    "valor_maximo = max(random_list)\n",
    "\n",
    "print(f'Media: {media}, Mediana: {mediana}, Mínimo: {valor_minimo}, Máximo: {valor_maximo}')"
   ]
  },
  {
   "cell_type": "markdown",
   "id": "b82d2453",
   "metadata": {},
   "source": [
    "## Exercício de programação 20\n",
    "* Imprima a lista abaixo de trás para frente.\n",
    "```python\n",
    "a = [1, 0, 2, 3, 5, 8, 13, 21, 34, 55, 89]\n",
    "```"
   ]
  },
  {
   "cell_type": "code",
   "execution_count": 23,
   "id": "558f26f5",
   "metadata": {},
   "outputs": [
    {
     "name": "stdout",
     "output_type": "stream",
     "text": [
      "[89, 55, 34, 21, 13, 8, 5, 3, 2, 0, 1]\n"
     ]
    }
   ],
   "source": [
    "a = [1, 0, 2, 3, 5, 8, 13, 21, 34, 55, 89]\n",
    "a.reverse()\n",
    "\n",
    "print(a)"
   ]
  },
  {
   "cell_type": "markdown",
   "id": "2b4d79ab",
   "metadata": {},
   "source": [
    "## Exercício de programação 21\n",
    "* Implemente duas classes, Pato e Pardal , que herdam de uma superclasse chamada Passaro as habilidades de voar e emitir som. Contudo, tanto Pato quanto Pardal devem emitir sons diferentes (de maneira escrita) no console, conforme o modelo a seguir:\n",
    "```python\n",
    "Pato\n",
    "Voando...\n",
    "Pato emitindo som...\n",
    "Quack Quack\n",
    "Pardal\n",
    "Voando...\n",
    "Pardal emitindo som...\n",
    "Piu Piu\n",
    "````"
   ]
  },
  {
   "cell_type": "code",
   "execution_count": 24,
   "id": "008e1782",
   "metadata": {},
   "outputs": [
    {
     "name": "stdout",
     "output_type": "stream",
     "text": [
      "Pato\n",
      "Voando...\n",
      "Pato emitindo som...\n",
      "Quack Quack\n",
      "Pardal\n",
      "Voando...\n",
      "Pardal emitindo som...\n",
      "Piu Piu\n"
     ]
    }
   ],
   "source": [
    "class Passaro:\n",
    "    def voar(self):\n",
    "        print('Animal\\nVoando...')\n",
    "\n",
    "    def emitir_som(self):\n",
    "        print('Animal emitindo som...')\n",
    "\n",
    "\n",
    "class Pato(Passaro):\n",
    "    def voar(self):\n",
    "        print('Pato\\nVoando...')\n",
    "\n",
    "    def emitir_som(self):\n",
    "        print('Pato emitindo som...\\nQuack Quack')\n",
    "\n",
    "\n",
    "class Pardal(Passaro):\n",
    "    def voar(self):\n",
    "        print('Pardal\\nVoando...')\n",
    "\n",
    "    def emitir_som(self):\n",
    "        print('Pardal emitindo som...\\nPiu Piu')\n",
    "\n",
    "\n",
    "def main():\n",
    "    pato = Pato()\n",
    "    pato.voar()\n",
    "    pato.emitir_som()\n",
    "\n",
    "    pardal = Pardal()\n",
    "    pardal.voar()\n",
    "    pardal.emitir_som()\n",
    "\n",
    "\n",
    "main()"
   ]
  },
  {
   "cell_type": "markdown",
   "id": "4c42c063",
   "metadata": {},
   "source": [
    "## Exercício de programação 22\n",
    "* Crie uma classe chamada Pessoa, com um atributo privado chamado nome (declarado internamente na classe como __nome) e um atributo público de nome id. Adicione dois métodos à classe, sendo um para definir o valor de __nome e outro para retornar o valor do respectivo atributo. Lembre-se que o acesso ao atributo privado deve ocorrer somente através dos métodos definidos, nunca diretamente. Você pode alcançar este comportamento através do recurso de properties do Python. Veja um exemplo de como seu atributo privado pode ser lido e escrito:\n",
    "```python\n",
    "pessoa = Pessoa(0) \n",
    "pessoa.nome = 'Fulano De Tal'\n",
    "print(pessoa.nome)\n",
    "```"
   ]
  },
  {
   "cell_type": "code",
   "execution_count": 25,
   "id": "ec6a3801",
   "metadata": {},
   "outputs": [
    {
     "name": "stdout",
     "output_type": "stream",
     "text": [
      "Fulano de Tal\n"
     ]
    }
   ],
   "source": [
    "class Pessoa:\n",
    "    def __init__(self, id):\n",
    "        self.__nome = None\n",
    "        self.id = id\n",
    "\n",
    "    def set_nome(self, nome):\n",
    "        self.__nome = nome\n",
    "\n",
    "    def get_nome(self):\n",
    "        return self.__nome\n",
    "\n",
    "    nome = property(get_nome, set_nome)\n",
    "\n",
    "\n",
    "p = Pessoa(0)\n",
    "p.nome = 'Fulano de Tal'\n",
    "print(p.nome)"
   ]
  },
  {
   "cell_type": "markdown",
   "id": "46b3211a",
   "metadata": {},
   "source": [
    "## Exercício de programação 23\n",
    "* Crie uma classe  Calculo  que contenha um método que aceita dois parâmetros, X e Y, e retorne a soma dos dois. Nessa mesma classe, implemente um método de subtração, que aceita dois parâmetros, X e Y, e retorne a subtração dos dois (resultados negativos são permitidos). Utilize os valores abaixo para testar seu exercício:\n",
    "```python\n",
    "x = 4 \n",
    "y = 5\n",
    "```\n",
    "* Imprima:\n",
    "```python\n",
    "Somando: 4+5 = 9\n",
    "Subtraindo: 4-5 = -1\n",
    "```"
   ]
  },
  {
   "cell_type": "code",
   "execution_count": 26,
   "id": "d65da12d",
   "metadata": {},
   "outputs": [
    {
     "name": "stdout",
     "output_type": "stream",
     "text": [
      "Somando: 4+5 = 9\n",
      "Subtraindo: 4+5 = -1\n"
     ]
    }
   ],
   "source": [
    "class Calculo:\n",
    "    def __init__(self, x, y):\n",
    "        self.x = x\n",
    "        self.y = y\n",
    "\n",
    "    def somar(self):\n",
    "        soma = self.x + self.y\n",
    "        print(f'Somando: {self.x}+{self.y} = {soma}')\n",
    "\n",
    "    def subtrair(self):\n",
    "        sub = self.x - self.y\n",
    "        print(f'Subtraindo: {self.x}+{self.y} = {sub}')\n",
    "\n",
    "\n",
    "operation = Calculo(4, 5)\n",
    "operation.somar()\n",
    "operation.subtrair()"
   ]
  },
  {
   "cell_type": "markdown",
   "id": "ca2e8b06",
   "metadata": {},
   "source": [
    "## Exercício de programação 24\n",
    "* Crie uma classe Ordenadora que contenha um atributo listaBaguncada e que contenha os métodos ordenacaoCrescente e ordenacaoDecrescente. Instancie um objeto chamado crescente dessa classe Ordenadora que tenha como listaBaguncada a lista ```[3,4,2,1,5]``` e instancie um outro objeto, decrescente dessa mesma classe com uma outra listaBaguncada sendo ```[9,7,6,8]```. Para o primeiro objeto citado, use o método ordenacaoCrescente e para o segundo objeto, use o método ordenacaoDecrescente.\n",
    "* Imprima o resultado da ordenação crescente e da ordenação decrescente:\n",
    "```python\n",
    "[1, 2, 3, 4, 5] \n",
    "[9, 8, 7, 6]\n",
    "```"
   ]
  },
  {
   "cell_type": "code",
   "execution_count": 27,
   "id": "d8dc43f2",
   "metadata": {},
   "outputs": [
    {
     "name": "stdout",
     "output_type": "stream",
     "text": [
      "[1, 2, 3, 4, 5]\n",
      "[9, 8, 7, 6]\n"
     ]
    }
   ],
   "source": [
    "class Ordenadora:\n",
    "    def __init__(self, listaBaguncada):\n",
    "        self.listaBaguncada = listaBaguncada\n",
    "\n",
    "    def ordenacaoCrescente(self):\n",
    "        crescente = sorted(self.listaBaguncada)\n",
    "        return crescente\n",
    "\n",
    "    def ordenacaoDecrescente(self):\n",
    "        decresc = sorted(self.listaBaguncada)\n",
    "        decresc.reverse()\n",
    "        return decresc\n",
    "\n",
    "\n",
    "crescente = [3, 4, 2, 1, 5]\n",
    "crescente = Ordenadora(crescente)\n",
    "print(crescente.ordenacaoCrescente())\n",
    "\n",
    "decrescente = [9, 7, 6, 8]\n",
    "decrescente = Ordenadora(decrescente)\n",
    "print(decrescente.ordenacaoDecrescente())"
   ]
  },
  {
   "cell_type": "markdown",
   "id": "23000e4a",
   "metadata": {},
   "source": [
    "## Exercício de programação 25\n",
    "* Crie uma classe Avião que possua os atributos modelo, velocidade_maxima, cor e capacidade. Defina o atributo cor de sua classe , de maneira que todas as instâncias de sua classe avião sejam da cor “azul”. Após isso, a partir de entradas abaixo, instancie e armazene em uma lista 3 objetos da classe Avião. Ao final, itere pela lista imprimindo cada um dos objetos no seguinte formato:\n",
    "\n",
    "```“O avião de modelo “x” possui uma velocidade máxima de “y”, capacidade para “z” passageiros e é da cor “w”.```\n",
    "\n",
    "* Sendo x, y, z e w cada um dos atributos da classe “Avião”.\n",
    "\n",
    "**Valores de entrada:**  \n",
    "* modelo BOIENG456: velocidade máxima 1500 km/h: capacidade para 400 passageiros: Cor Azul  \n",
    "* modelo Embraer Praetor 600: velocidade máxima 863km/h: capacidade para 14 passageiros: Cor Azul  \n",
    "* modelo Antonov An-2: velocidade máxima de 258 Km/h: capacidade para 12 passageiros: Cor Azul  "
   ]
  },
  {
   "cell_type": "code",
   "execution_count": 28,
   "id": "a2707fda",
   "metadata": {},
   "outputs": [
    {
     "name": "stdout",
     "output_type": "stream",
     "text": [
      "modelo BOIENG456: velocidade máxima 1500 km/h: capacidade para 400 passageiros: Cor azul\n",
      "modelo Embraer Praetor 600: velocidade máxima 863 km/h: capacidade para 14 passageiros: Cor azul\n",
      "modelo Antonov An-2: velocidade máxima 258 km/h: capacidade para 12 passageiros: Cor azul\n"
     ]
    }
   ],
   "source": [
    "class Aviao:\n",
    "    def __init__(self, modelo, velocidade_maxima, capacidade, cor='azul'):\n",
    "        self.modelo = modelo\n",
    "        self.velocidade_maxima = velocidade_maxima\n",
    "        self.capacidade = capacidade\n",
    "        self.cor = cor\n",
    "\n",
    "    def __str__(self):\n",
    "        return f'modelo {self.modelo}: velocidade máxima {self.velocidade_maxima} km/h: capacidade para {self.capacidade} passageiros: Cor {self.cor}'\n",
    "\n",
    "\n",
    "aviao = ['BOIENG456', '1500', '400']\n",
    "aviao = Aviao(*aviao)\n",
    "print(aviao)\n",
    "\n",
    "aviao2 = ['Embraer Praetor 600', '863', '14']\n",
    "aviao2 = Aviao(*aviao2)\n",
    "print(aviao2)\n",
    "\n",
    "aviao3 = ['Antonov An-2', '258', '12']\n",
    "aviao3 = Aviao(*aviao3)\n",
    "print(aviao3)"
   ]
  }
 ],
 "metadata": {
  "kernelspec": {
   "display_name": "Python 3 (ipykernel)",
   "language": "python",
   "name": "python3"
  },
  "language_info": {
   "codemirror_mode": {
    "name": "ipython",
    "version": 3
   },
   "file_extension": ".py",
   "mimetype": "text/x-python",
   "name": "python",
   "nbconvert_exporter": "python",
   "pygments_lexer": "ipython3",
   "version": "3.11.7"
  }
 },
 "nbformat": 4,
 "nbformat_minor": 5
}
